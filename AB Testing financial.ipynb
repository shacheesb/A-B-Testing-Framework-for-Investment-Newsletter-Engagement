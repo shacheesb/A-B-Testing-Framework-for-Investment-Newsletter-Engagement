{
 "cells": [
  {
   "cell_type": "code",
   "execution_count": 3,
   "id": "8ae639be-e0d7-429f-8412-ed63b5c981d6",
   "metadata": {},
   "outputs": [],
   "source": [
    "from faker import Faker\n",
    "import pandas as pd\n",
    "import numpy as np\n",
    "\n",
    "fake = Faker()\n",
    "np.random.seed(42)\n",
    "\n",
    "n = 30000\n",
    "data = {\n",
    "    \"user_id\": [fake.uuid4() for _ in range(n)],\n",
    "    \"timezone\": np.random.choice([\"PST\", \"EST\", \"CST\"], size=n, p=[0.3, 0.4, 0.3]),\n",
    "    \"investment_interest\": np.random.choice([\"Macro\", \"Equities\", \"Crypto\"], size=n),\n",
    "    \"email_open_prob\": np.random.beta(2, 5, size=n),\n",
    "    \"click_through_prob\": np.random.beta(2, 8, size=n),\n",
    "}\n",
    "df = pd.DataFrame(data)\n"
   ]
  },
  {
   "cell_type": "code",
   "execution_count": 4,
   "id": "2dc7dca9-0f9b-46fa-a354-ccbafd7481eb",
   "metadata": {},
   "outputs": [
    {
     "name": "stdout",
     "output_type": "stream",
     "text": [
      "Requirement already satisfied: faker in /opt/anaconda3/lib/python3.12/site-packages (37.1.0)\n",
      "Requirement already satisfied: tzdata in /opt/anaconda3/lib/python3.12/site-packages (from faker) (2023.3)\n",
      "Note: you may need to restart the kernel to use updated packages.\n"
     ]
    }
   ],
   "source": [
    "pip install faker"
   ]
  },
  {
   "cell_type": "code",
   "execution_count": 5,
   "id": "045eafa6-2a94-4439-b50a-99776c1fce83",
   "metadata": {},
   "outputs": [
    {
     "data": {
      "text/html": [
       "<div>\n",
       "<style scoped>\n",
       "    .dataframe tbody tr th:only-of-type {\n",
       "        vertical-align: middle;\n",
       "    }\n",
       "\n",
       "    .dataframe tbody tr th {\n",
       "        vertical-align: top;\n",
       "    }\n",
       "\n",
       "    .dataframe thead th {\n",
       "        text-align: right;\n",
       "    }\n",
       "</style>\n",
       "<table border=\"1\" class=\"dataframe\">\n",
       "  <thead>\n",
       "    <tr style=\"text-align: right;\">\n",
       "      <th></th>\n",
       "      <th>user_id</th>\n",
       "      <th>timezone</th>\n",
       "      <th>investment_interest</th>\n",
       "      <th>email_open_prob</th>\n",
       "      <th>click_through_prob</th>\n",
       "    </tr>\n",
       "  </thead>\n",
       "  <tbody>\n",
       "    <tr>\n",
       "      <th>0</th>\n",
       "      <td>d4f749d7-5cb6-4715-8e1a-4f8909e44dfc</td>\n",
       "      <td>EST</td>\n",
       "      <td>Macro</td>\n",
       "      <td>0.156550</td>\n",
       "      <td>0.093785</td>\n",
       "    </tr>\n",
       "    <tr>\n",
       "      <th>1</th>\n",
       "      <td>8305a155-2c4f-42e9-9fa7-7f8266dabcb4</td>\n",
       "      <td>CST</td>\n",
       "      <td>Crypto</td>\n",
       "      <td>0.445872</td>\n",
       "      <td>0.286598</td>\n",
       "    </tr>\n",
       "    <tr>\n",
       "      <th>2</th>\n",
       "      <td>96cf7bb9-4d6a-4263-b37c-3b2be397d9d2</td>\n",
       "      <td>CST</td>\n",
       "      <td>Equities</td>\n",
       "      <td>0.245998</td>\n",
       "      <td>0.198578</td>\n",
       "    </tr>\n",
       "    <tr>\n",
       "      <th>3</th>\n",
       "      <td>90d6b937-c3bd-44c6-9703-bdba5f0116ed</td>\n",
       "      <td>EST</td>\n",
       "      <td>Macro</td>\n",
       "      <td>0.189009</td>\n",
       "      <td>0.451344</td>\n",
       "    </tr>\n",
       "    <tr>\n",
       "      <th>4</th>\n",
       "      <td>0d9652a2-b9f3-4fd0-b426-468290a627b0</td>\n",
       "      <td>PST</td>\n",
       "      <td>Equities</td>\n",
       "      <td>0.197143</td>\n",
       "      <td>0.385639</td>\n",
       "    </tr>\n",
       "  </tbody>\n",
       "</table>\n",
       "</div>"
      ],
      "text/plain": [
       "                                user_id timezone investment_interest  \\\n",
       "0  d4f749d7-5cb6-4715-8e1a-4f8909e44dfc      EST               Macro   \n",
       "1  8305a155-2c4f-42e9-9fa7-7f8266dabcb4      CST              Crypto   \n",
       "2  96cf7bb9-4d6a-4263-b37c-3b2be397d9d2      CST            Equities   \n",
       "3  90d6b937-c3bd-44c6-9703-bdba5f0116ed      EST               Macro   \n",
       "4  0d9652a2-b9f3-4fd0-b426-468290a627b0      PST            Equities   \n",
       "\n",
       "   email_open_prob  click_through_prob  \n",
       "0         0.156550            0.093785  \n",
       "1         0.445872            0.286598  \n",
       "2         0.245998            0.198578  \n",
       "3         0.189009            0.451344  \n",
       "4         0.197143            0.385639  "
      ]
     },
     "execution_count": 5,
     "metadata": {},
     "output_type": "execute_result"
    }
   ],
   "source": [
    "from faker import Faker\n",
    "import pandas as pd\n",
    "import numpy as np\n",
    "\n",
    "fake = Faker()\n",
    "np.random.seed(42)\n",
    "\n",
    "n = 30000\n",
    "data = {\n",
    "    \"user_id\": [fake.uuid4() for _ in range(n)],\n",
    "    \"timezone\": np.random.choice([\"PST\", \"EST\", \"CST\"], size=n, p=[0.3, 0.4, 0.3]),\n",
    "    \"investment_interest\": np.random.choice([\"Macro\", \"Equities\", \"Crypto\"], size=n),\n",
    "    \"email_open_prob\": np.random.beta(2, 5, size=n),\n",
    "    \"click_through_prob\": np.random.beta(2, 8, size=n),\n",
    "}\n",
    "df = pd.DataFrame(data)\n",
    "df.head()\n"
   ]
  },
  {
   "cell_type": "code",
   "execution_count": 6,
   "id": "dcba5fa6-d556-43ba-8bb5-31f7bc672126",
   "metadata": {},
   "outputs": [],
   "source": [
    "df[\"subject_line\"] = np.random.choice([\"A\", \"B\"], size=n)\n",
    "df[\"send_time\"] = np.random.choice([\"8AM\", \"9AM\", \"12PM\"], size=n)\n",
    "df[\"content_type\"] = df[\"investment_interest\"]  # simulate relevance\n"
   ]
  },
  {
   "cell_type": "code",
   "execution_count": 7,
   "id": "b74e8068-807b-42fb-b750-25db1eef80c3",
   "metadata": {},
   "outputs": [],
   "source": [
    "df[\"opened\"] = np.random.binomial(1, df[\"email_open_prob\"])\n",
    "df[\"clicked\"] = df.apply(\n",
    "    lambda row: np.random.binomial(1, row[\"click_through_prob\"]) if row[\"opened\"] else 0,\n",
    "    axis=1\n",
    ")\n"
   ]
  },
  {
   "cell_type": "code",
   "execution_count": 8,
   "id": "649a0a89-8feb-4e5e-9a35-f181dca2b7e3",
   "metadata": {},
   "outputs": [
    {
     "name": "stdout",
     "output_type": "stream",
     "text": [
      "Chi-Square p-value: 0.26043115647296794\n"
     ]
    }
   ],
   "source": [
    "from scipy.stats import chi2_contingency, ttest_ind\n",
    "\n",
    "# Example: content type vs click\n",
    "contingency = pd.crosstab(df[\"content_type\"], df[\"clicked\"])\n",
    "chi2, p, _, _ = chi2_contingency(contingency)\n",
    "print(f\"Chi-Square p-value: {p}\")\n"
   ]
  },
  {
   "cell_type": "code",
   "execution_count": 9,
   "id": "b906bdc7-1acd-411b-92d1-eb42fab1627e",
   "metadata": {},
   "outputs": [
    {
     "name": "stdout",
     "output_type": "stream",
     "text": [
      "XGBoost AUC: 0.509401926986537\n",
      "LogReg AUC: 0.504393448258846\n"
     ]
    }
   ],
   "source": [
    "from sklearn.model_selection import train_test_split\n",
    "from sklearn.preprocessing import OneHotEncoder\n",
    "from sklearn.ensemble import GradientBoostingClassifier\n",
    "from sklearn.linear_model import LogisticRegression\n",
    "from sklearn.metrics import roc_auc_score\n",
    "\n",
    "# Encode categorical features\n",
    "X = df[[\"send_time\", \"subject_line\", \"content_type\", \"timezone\"]]\n",
    "X = pd.get_dummies(X)\n",
    "y = df[\"clicked\"]\n",
    "\n",
    "X_train, X_test, y_train, y_test = train_test_split(X, y, stratify=y, random_state=42)\n",
    "\n",
    "xgb = GradientBoostingClassifier().fit(X_train, y_train)\n",
    "logreg = LogisticRegression(max_iter=1000).fit(X_train, y_train)\n",
    "\n",
    "print(\"XGBoost AUC:\", roc_auc_score(y_test, xgb.predict_proba(X_test)[:, 1]))\n",
    "print(\"LogReg AUC:\", roc_auc_score(y_test, logreg.predict_proba(X_test)[:, 1]))\n"
   ]
  },
  {
   "cell_type": "code",
   "execution_count": 20,
   "id": "8cd225bb-5386-43e6-9607-3d9bb3d82260",
   "metadata": {},
   "outputs": [],
   "source": [
    "df.to_csv(\"your_data.csv\", index=False)\n"
   ]
  },
  {
   "cell_type": "code",
   "execution_count": null,
   "id": "de193015-1186-4836-a590-22072d5da566",
   "metadata": {},
   "outputs": [],
   "source": []
  }
 ],
 "metadata": {
  "kernelspec": {
   "display_name": "Python 3 (ipykernel)",
   "language": "python",
   "name": "python3"
  },
  "language_info": {
   "codemirror_mode": {
    "name": "ipython",
    "version": 3
   },
   "file_extension": ".py",
   "mimetype": "text/x-python",
   "name": "python",
   "nbconvert_exporter": "python",
   "pygments_lexer": "ipython3",
   "version": "3.12.4"
  }
 },
 "nbformat": 4,
 "nbformat_minor": 5
}
